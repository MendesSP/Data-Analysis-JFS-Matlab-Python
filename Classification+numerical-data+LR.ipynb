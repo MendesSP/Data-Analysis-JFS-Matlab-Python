{
 "cells": [
  {
   "cell_type": "markdown",
   "metadata": {},
   "source": [
    "## Import Libraries"
   ]
  },
  {
   "cell_type": "code",
   "execution_count": 23,
   "metadata": {
    "collapsed": true
   },
   "outputs": [],
   "source": [
    "import pandas as pd\n",
    "import numpy as np\n",
    "from sklearn.cross_validation import train_test_split \n",
    "from sklearn import preprocessing\n",
    "from sklearn.linear_model import LogisticRegression\n",
    "from sklearn.cross_validation import train_test_split\n",
    "from sklearn.metrics import classification_report, f1_score, accuracy_score, confusion_matrix\n",
    "from sklearn.metrics import precision_recall_fscore_support\n",
    "from sklearn.cross_validation import cross_val_predict\n",
    "import operator\n",
    "import csv"
   ]
  },
  {
   "cell_type": "markdown",
   "metadata": {
    "collapsed": false
   },
   "source": [
    "## Load general data"
   ]
  },
  {
   "cell_type": "code",
   "execution_count": 24,
   "metadata": {
    "collapsed": false
   },
   "outputs": [],
   "source": [
    "path  = '/Users/andremendes/OneDrive/Estudar/Estudar Projects/JFS/Data-Analysis-JFS-Matlab-Python/Data/'\n",
    "scores = pd.read_csv(path+\"text_scores.csv\")\n",
    "scores = scores.iloc[:,1:]\n",
    "general = pd.read_csv(path+'numerical_data_csv.csv')\n",
    "data = general.iloc[:,2:14]\n",
    "categories = data.columns.values"
   ]
  },
  {
   "cell_type": "markdown",
   "metadata": {},
   "source": [
    "## Normalize"
   ]
  },
  {
   "cell_type": "code",
   "execution_count": 25,
   "metadata": {
    "collapsed": true
   },
   "outputs": [],
   "source": [
    "minmax_scale = preprocessing.MinMaxScaler().fit(data)\n",
    "df_minmax = minmax_scale.transform(data)\n",
    "data_norm = pd.DataFrame(df_minmax, columns=categories)"
   ]
  },
  {
   "cell_type": "markdown",
   "metadata": {},
   "source": [
    "## Split data"
   ]
  },
  {
   "cell_type": "code",
   "execution_count": 26,
   "metadata": {
    "collapsed": false
   },
   "outputs": [],
   "source": [
    "np.random.seed(5)\n",
    "data_norm  = data_norm.reindex(np.random.permutation(data_norm.index))\n",
    "data_norm, unknown = train_test_split(data_norm, test_size = 0.33)"
   ]
  },
  {
   "cell_type": "markdown",
   "metadata": {},
   "source": [
    "## Prepare features, labels, train classifier and predict"
   ]
  },
  {
   "cell_type": "code",
   "execution_count": 27,
   "metadata": {
    "collapsed": false
   },
   "outputs": [
    {
     "data": {
      "text/plain": [
       "(0.61682242990654201, 0.81481481481481477, 0.70212765957446799, None)"
      ]
     },
     "execution_count": 27,
     "metadata": {},
     "output_type": "execute_result"
    }
   ],
   "source": [
    "y = np.array(data_norm.iloc[:,11:12])\n",
    "y = y.ravel()\n",
    "X = np.array(data_norm.iloc[:,:11])\n",
    "\n",
    "saspe = LogisticRegression()\n",
    "predicted = cross_val_predict(saspe, X, y, cv=10)\n",
    "saspe.fit(X,y)\n",
    "precision_recall_fscore_support(y, predicted, average='binary')"
   ]
  },
  {
   "cell_type": "markdown",
   "metadata": {},
   "source": [
    "## Classify using unknown data"
   ]
  },
  {
   "cell_type": "code",
   "execution_count": 28,
   "metadata": {
    "collapsed": false
   },
   "outputs": [
    {
     "data": {
      "text/plain": [
       "(0.51111111111111107, 0.74193548387096775, 0.60526315789473684, None)"
      ]
     },
     "execution_count": 28,
     "metadata": {},
     "output_type": "execute_result"
    }
   ],
   "source": [
    "y = np.array(unknown.iloc[:,11:12])\n",
    "y = y.ravel()\n",
    "X = unknown.iloc[:,:11]\n",
    "features = list(X.columns.values)\n",
    "X = np.array(X)\n",
    "\n",
    "predicted = saspe.predict(X)\n",
    "precision_recall_fscore_support(y, predicted, average='binary')"
   ]
  },
  {
   "cell_type": "code",
   "execution_count": 29,
   "metadata": {
    "collapsed": false,
    "scrolled": true
   },
   "outputs": [
    {
     "data": {
      "text/plain": [
       "[('Age', -0.6713541293193187),\n",
       " ('School Year', -0.64914161961484718),\n",
       " ('Support for extra activities', -0.56802680036257391),\n",
       " ('GPA', -0.46947782007156469),\n",
       " ('Gender', -0.38646864699832029),\n",
       " ('Type School', -0.079765642582630608),\n",
       " ('English', 0.069319518381808401),\n",
       " ('Upload Transcript', 0.2558208187426616),\n",
       " ('know about Estudar', 0.28884109466362484),\n",
       " ('english percentil', 1.5476106936379548),\n",
       " ('english test', 3.4442442211754929)]"
      ]
     },
     "execution_count": 29,
     "metadata": {},
     "output_type": "execute_result"
    }
   ],
   "source": [
    "coefficients = {}\n",
    "weights = list(list(saspe.coef_[0]))\n",
    "\n",
    "connection = zip(features,weights)\n",
    "for feature, weight in connection:\n",
    "    coefficients[feature] = weight\n",
    "\n",
    "coefficients = sorted(coefficients.items(), key=operator.itemgetter(1))\n",
    "\n",
    "coefficients"
   ]
  },
  {
   "cell_type": "code",
   "execution_count": 33,
   "metadata": {
    "collapsed": true
   },
   "outputs": [],
   "source": [
    "with open(path+'index_unknown.csv', 'wb') as f:\n",
    "    writer = csv.writer(f)\n",
    "    for val in unknown.index.tolist():\n",
    "        writer.writerow([val])\n",
    "        \n",
    "with open(path+'index_known.csv', 'wb') as f:\n",
    "    writer = csv.writer(f)\n",
    "    for val in unknown.index.tolist():\n",
    "        writer.writerow([val])"
   ]
  },
  {
   "cell_type": "code",
   "execution_count": null,
   "metadata": {
    "collapsed": true
   },
   "outputs": [],
   "source": []
  }
 ],
 "metadata": {
  "kernelspec": {
   "display_name": "Python 2",
   "language": "python",
   "name": "python2"
  },
  "language_info": {
   "codemirror_mode": {
    "name": "ipython",
    "version": 2
   },
   "file_extension": ".py",
   "mimetype": "text/x-python",
   "name": "python",
   "nbconvert_exporter": "python",
   "pygments_lexer": "ipython2",
   "version": "2.7.11"
  }
 },
 "nbformat": 4,
 "nbformat_minor": 0
}

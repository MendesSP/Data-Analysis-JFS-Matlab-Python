{
 "cells": [
  {
   "cell_type": "code",
   "execution_count": 1,
   "metadata": {
    "collapsed": true
   },
   "outputs": [],
   "source": [
    "import pandas as pd\n",
    "import numpy as np\n",
    "from sklearn.cross_validation import train_test_split \n",
    "from sklearn import preprocessing\n",
    "from sklearn.linear_model import LogisticRegression\n",
    "from sklearn.cross_validation import train_test_split\n",
    "from sklearn.metrics import classification_report, f1_score, accuracy_score, confusion_matrix\n",
    "from sklearn.metrics import precision_recall_fscore_support\n",
    "from sklearn.cross_validation import cross_val_predict\n",
    "import operator"
   ]
  },
  {
   "cell_type": "code",
   "execution_count": 2,
   "metadata": {
    "collapsed": true
   },
   "outputs": [],
   "source": [
    "path  = '/Users/andremendes/OneDrive/Estudar/Estudar Projects/JFS/Data-Analysis-JFS-Matlab-Python/Data/'\n",
    "scores = pd.read_csv(path+\"text_scores.csv\")\n",
    "scores = scores.iloc[:,1:]\n",
    "general = pd.read_csv(path+'numerical_data_csv.csv')\n",
    "teste = pd.read_csv(path+'index_unknown.csv')\n",
    "index_unknown = list(teste.values.flatten()) #get the index of unknown data\n",
    "index_known = list(pd.read_csv(path+'index_known.csv').values.flatten())\n",
    "data = general.iloc[:,2:13]\n",
    "\n",
    "data = pd.concat([data, scores], axis=1)\n",
    "data = pd.concat([data, general.iloc[:,13]], axis=1)\n",
    "categories = data.columns.values"
   ]
  },
  {
   "cell_type": "code",
   "execution_count": 3,
   "metadata": {
    "collapsed": false
   },
   "outputs": [],
   "source": [
    "minmax_scale = preprocessing.MinMaxScaler().fit(data)\n",
    "df_minmax = minmax_scale.transform(data)\n",
    "data_norm = pd.DataFrame(df_minmax, columns=categories)"
   ]
  },
  {
   "cell_type": "code",
   "execution_count": 4,
   "metadata": {
    "collapsed": false
   },
   "outputs": [],
   "source": [
    "unknown = data_norm.drop(index_known)\n",
    "data_norm  = data_norm.drop(index_unknown)"
   ]
  },
  {
   "cell_type": "code",
   "execution_count": 5,
   "metadata": {
    "collapsed": false
   },
   "outputs": [
    {
     "data": {
      "text/plain": [
       "(1.0, 0.98780487804878048, 0.99386503067484666, None)"
      ]
     },
     "execution_count": 5,
     "metadata": {},
     "output_type": "execute_result"
    }
   ],
   "source": [
    "y = np.array(data_norm.iloc[:,15:16])\n",
    "y = y.ravel()\n",
    "\n",
    "X = data_norm.iloc[:,:15]\n",
    "features = list(X.columns.values)\n",
    "X = np.array(X)\n",
    "\n",
    "\n",
    "saspe = LogisticRegression()\n",
    "predicted = cross_val_predict(saspe, X, y, cv=10)\n",
    "saspe.fit(X,y)\n",
    "precision_recall_fscore_support(y, predicted, average='binary')"
   ]
  },
  {
   "cell_type": "code",
   "execution_count": 6,
   "metadata": {
    "collapsed": true
   },
   "outputs": [],
   "source": [
    "y = np.array(unknown.iloc[:,15:16])\n",
    "y = y.ravel()\n",
    "X = np.array(unknown.iloc[:,:15])"
   ]
  },
  {
   "cell_type": "code",
   "execution_count": 7,
   "metadata": {
    "collapsed": false
   },
   "outputs": [
    {
     "data": {
      "text/plain": [
       "(1.0, 0.98780487804878048, 0.99386503067484666, None)"
      ]
     },
     "execution_count": 7,
     "metadata": {},
     "output_type": "execute_result"
    }
   ],
   "source": [
    "predicted = saspe.predict(X)\n",
    "precision_recall_fscore_support(y, predicted, average='binary')"
   ]
  },
  {
   "cell_type": "code",
   "execution_count": 8,
   "metadata": {
    "collapsed": false
   },
   "outputs": [
    {
     "data": {
      "text/plain": [
       "[('Age', -0.62563317210526492),\n",
       " ('Gender', -0.61591957228021665),\n",
       " ('Type School', -0.60858342263663368),\n",
       " ('Support for extra activities', -0.5911656810841116),\n",
       " ('School Year', -0.44059502671282652),\n",
       " ('English', -0.32419321239182269),\n",
       " ('Upload Transcript', -0.23208789718494063),\n",
       " ('GPA', -0.18530122970473004),\n",
       " ('know about Estudar', 0.15895749831761663),\n",
       " ('english percentil', 0.43634510430856682),\n",
       " ('life project', 1.0547937889954166),\n",
       " ('honors', 1.1637495841245931),\n",
       " ('english test', 1.3900276379410637),\n",
       " ('extra activities', 2.482070340058331),\n",
       " ('all text', 3.2471311134774452)]"
      ]
     },
     "execution_count": 8,
     "metadata": {},
     "output_type": "execute_result"
    }
   ],
   "source": [
    "coefficients = {}\n",
    "weights = list(list(saspe.coef_[0]))\n",
    "\n",
    "connection = zip(features,weights)\n",
    "for feature, weight in connection:\n",
    "    coefficients[feature] = weight\n",
    "\n",
    "coefficients = sorted(coefficients.items(), key=operator.itemgetter(1))\n",
    "\n",
    "coefficients"
   ]
  },
  {
   "cell_type": "code",
   "execution_count": null,
   "metadata": {
    "collapsed": true
   },
   "outputs": [],
   "source": []
  }
 ],
 "metadata": {
  "kernelspec": {
   "display_name": "Python 2",
   "language": "python",
   "name": "python2"
  },
  "language_info": {
   "codemirror_mode": {
    "name": "ipython",
    "version": 2
   },
   "file_extension": ".py",
   "mimetype": "text/x-python",
   "name": "python",
   "nbconvert_exporter": "python",
   "pygments_lexer": "ipython2",
   "version": "2.7.11"
  }
 },
 "nbformat": 4,
 "nbformat_minor": 0
}

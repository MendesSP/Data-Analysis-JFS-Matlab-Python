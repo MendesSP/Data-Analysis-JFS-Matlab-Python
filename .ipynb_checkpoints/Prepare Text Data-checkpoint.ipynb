{
 "cells": [
  {
   "cell_type": "markdown",
   "metadata": {},
   "source": [
    "## Import Libraries"
   ]
  },
  {
   "cell_type": "code",
   "execution_count": 7,
   "metadata": {
    "collapsed": true
   },
   "outputs": [],
   "source": [
    "import pandas as pd\n",
    "import numpy as np\n",
    "import sklearn as sk"
   ]
  },
  {
   "cell_type": "markdown",
   "metadata": {
    "collapsed": false
   },
   "source": [
    "## Load general data, shuffle and divide train data and unknown data"
   ]
  },
  {
   "cell_type": "code",
   "execution_count": 8,
   "metadata": {
    "collapsed": false
   },
   "outputs": [],
   "source": [
    "path  = '/Users/andremendes/OneDrive/Estudar/Estudar Projects/JFS/Data-Analysis-JFS-Matlab-Python/Data/'\n",
    "general = pd.read_csv(path+'text_data_csv.csv')\n",
    "labels = general.Result"
   ]
  },
  {
   "cell_type": "markdown",
   "metadata": {
    "collapsed": false
   },
   "source": [
    "## build a column that contains all the text related to activities per candidate"
   ]
  },
  {
   "cell_type": "code",
   "execution_count": 9,
   "metadata": {
    "collapsed": false
   },
   "outputs": [],
   "source": [
    "def concat(*args):\n",
    "    strs = [str(arg) for arg in args]\n",
    "    return ','.join(strs) if strs else np.nan\n",
    "np_concat = np.vectorize(concat)\n",
    "\n",
    "extra_activities = general.iloc[:,0]\n",
    "honors = general.iloc[:,6]\n",
    "life_project  = np.array(general.iloc[:,9])\n",
    "all_text = general.iloc[:,0];\n",
    "\n",
    "for i in range(1,6):\n",
    "    extra_activities = np_concat(extra_activities, general.iloc[:,i])\n",
    "for i in range(7,9):\n",
    "    honors = np_concat(honors, general.iloc[:,i])\n",
    "for i in range(1,10):\n",
    "    all_text = np_concat(all_text, general.iloc[:,i])\n",
    "\n",
    "from unicodedata import normalize\n",
    "def remove_special(txt, codif='utf-8'):\n",
    "    return normalize('NFKD', txt.decode(codif)).encode('ASCII','ignore')\n",
    "if __name__ == '__main__':\n",
    "    from doctest import testmod\n",
    "    testmod()\n",
    "    \n",
    "for i in range(len(extra_activities)):\n",
    "    extra_activities[i] = remove_special(extra_activities[i])\n",
    "    honors[i] = remove_special(honors[i])  \n",
    "    all_text[i] = remove_special(all_text[i])\n",
    "    "
   ]
  },
  {
   "cell_type": "markdown",
   "metadata": {
    "collapsed": false,
    "scrolled": true
   },
   "source": [
    " ## Separate the text in activities that come from approved candidates and reproved candidates\n"
   ]
  },
  {
   "cell_type": "code",
   "execution_count": 16,
   "metadata": {
    "collapsed": false
   },
   "outputs": [],
   "source": [
    "\n"
   ]
  },
  {
   "cell_type": "code",
   "execution_count": null,
   "metadata": {
    "collapsed": true
   },
   "outputs": [],
   "source": []
  }
 ],
 "metadata": {
  "kernelspec": {
   "display_name": "Python 2",
   "language": "python",
   "name": "python2"
  },
  "language_info": {
   "codemirror_mode": {
    "name": "ipython",
    "version": 2
   },
   "file_extension": ".py",
   "mimetype": "text/x-python",
   "name": "python",
   "nbconvert_exporter": "python",
   "pygments_lexer": "ipython2",
   "version": "2.7.11"
  }
 },
 "nbformat": 4,
 "nbformat_minor": 0
}

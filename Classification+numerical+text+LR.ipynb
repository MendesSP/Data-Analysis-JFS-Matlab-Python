{
 "cells": [
  {
   "cell_type": "markdown",
   "metadata": {},
   "source": [
    "## Load libraries"
   ]
  },
  {
   "cell_type": "code",
   "execution_count": 1,
   "metadata": {
    "collapsed": true
   },
   "outputs": [],
   "source": [
    "import pandas as pd\n",
    "import numpy as np\n",
    "from sklearn.cross_validation import train_test_split \n",
    "from sklearn import preprocessing\n",
    "from sklearn.linear_model import LogisticRegression\n",
    "from sklearn.cross_validation import train_test_split\n",
    "from sklearn.metrics import classification_report, f1_score, accuracy_score, confusion_matrix\n",
    "from sklearn.metrics import precision_recall_fscore_support\n",
    "from sklearn.cross_validation import cross_val_predict\n",
    "import operator\n",
    "import pickle"
   ]
  },
  {
   "cell_type": "code",
   "execution_count": 2,
   "metadata": {
    "collapsed": true
   },
   "outputs": [],
   "source": [
    "def get_coefficients(saspe,features):\n",
    "\n",
    "    coefficients = {}\n",
    "    weights = list(list(saspe.coef_[0]))\n",
    "\n",
    "    connection = zip(features,weights)\n",
    "    for feature, weight in connection:\n",
    "        coefficients[feature] = weight\n",
    "\n",
    "    coefficients = sorted(coefficients.items(), key=operator.itemgetter(1))\n",
    "    return coefficients"
   ]
  },
  {
   "cell_type": "markdown",
   "metadata": {},
   "source": [
    "## Load Data"
   ]
  },
  {
   "cell_type": "code",
   "execution_count": 12,
   "metadata": {
    "collapsed": false
   },
   "outputs": [],
   "source": [
    "path  = '/Users/andremendes/OneDrive/Estudar/Estudar-Projects/JFS/Data-Analysis-JFS-Matlab-Python/Data/'\n",
    "\n",
    "#scores = pd.read_csv(path+\"text_scores.csv\")\n",
    "#scores = scores.iloc[:,1:]\n",
    "#general = pd.read_csv(path+'numerical_data_csv.csv')\n",
    "#data = general.iloc[:,2:13]\n",
    "#data = pd.concat([data, scores], axis=1)\n",
    "#data = pd.concat([data, general.iloc[:,13]], axis=1)\n",
    "#data.to_csv(path+'complete-data.csv')\n",
    "\n",
    "#index_unknown = list(pd.read_csv(path+'index_unknown.csv').values.flatten()) #get the index of unknown data\n",
    "#index_known = list(pd.read_csv(path+'index_known.csv').values.flatten())\n",
    "\n",
    "#minmax_scale = preprocessing.MinMaxScaler().fit(data)\n",
    "#df_minmax = minmax_scale.transform(data)\n",
    "#data_norm = pd.DataFrame(df_minmax, columns=categories)\n",
    "\n",
    "#unknown = data_norm.drop(index_known)\n",
    "#data_norm  = data_norm.drop(index_unknown)\n",
    "#unknown.to_csv(path+\"unknown-complete-normalized.csv\")\n",
    "#data_norm.to_csv(path+\"data-complete-normalized.csv\")\n",
    "\n",
    "data = pd.read_csv(path+'complete-data.csv')\n",
    "unknown = pd.read_csv(path+'unknown-complete-normalized.csv')\n",
    "data_norm = pd.read_csv(path+\"data-complete-normalized.csv\")\n",
    "categories = data.columns.values\n",
    "\n",
    "minmax_scale = preprocessing.MinMaxScaler().fit(data)\n",
    "df_minmax = minmax_scale.transform(data)\n",
    "data_norm = pd.DataFrame(df_minmax, columns=categories)"
   ]
  },
  {
   "cell_type": "markdown",
   "metadata": {},
   "source": [
    "## Load Classifier and predict using cross validation"
   ]
  },
  {
   "cell_type": "code",
   "execution_count": 14,
   "metadata": {
    "collapsed": false
   },
   "outputs": [
    {
     "data": {
      "text/plain": [
       "(1.0, 0.9821428571428571, 0.99099099099099086, None)"
      ]
     },
     "execution_count": 14,
     "metadata": {},
     "output_type": "execute_result"
    }
   ],
   "source": [
    "#saspe = LogisticRegression()\n",
    "#saspe.fit(X,y)\n",
    "#with open(path+'saspe.pkl', 'wb') as fid: pickle.dump(saspe, fid)\n",
    "\n",
    "y = np.array(data_norm.iloc[:,15:16])\n",
    "y = y.ravel()\n",
    "\n",
    "X = data_norm.iloc[:,:15]\n",
    "features = list(X.columns.values)\n",
    "X = np.array(X)\n",
    "\n",
    "with open(path+'saspe.pkl', 'rb') as fid: saspe = pickle.load(fid)\n",
    "predicted = cross_val_predict(saspe, X, y, cv=20)\n",
    "precision_recall_fscore_support(y, predicted, average='binary')"
   ]
  },
  {
   "cell_type": "markdown",
   "metadata": {},
   "source": [
    "## Predict using unknown data"
   ]
  },
  {
   "cell_type": "code",
   "execution_count": 15,
   "metadata": {
    "collapsed": false
   },
   "outputs": [
    {
     "data": {
      "text/plain": [
       "(1.0, 0.98780487804878048, 0.99386503067484666, None)"
      ]
     },
     "execution_count": 15,
     "metadata": {},
     "output_type": "execute_result"
    }
   ],
   "source": [
    "y = np.array(unknown.iloc[:,15:16])\n",
    "y = y.ravel()\n",
    "X = np.array(unknown.iloc[:,:15])\n",
    "\n",
    "predicted = saspe.predict(X)\n",
    "precision_recall_fscore_support(y, predicted, average='binary')"
   ]
  },
  {
   "cell_type": "markdown",
   "metadata": {},
   "source": [
    "## Get coefficients"
   ]
  },
  {
   "cell_type": "code",
   "execution_count": 16,
   "metadata": {
    "collapsed": false
   },
   "outputs": [
    {
     "data": {
      "text/plain": [
       "[('Age', -0.62563317244569427),\n",
       " ('Gender', -0.61591957204462155),\n",
       " ('Type School', -0.60858342242269459),\n",
       " ('Support for extra activities', -0.59116568113942647),\n",
       " ('School Year', -0.44059502639623876),\n",
       " ('English', -0.32419321258171985),\n",
       " ('Upload Transcript', -0.23208789709879632),\n",
       " ('GPA', -0.18530122989269937),\n",
       " ('know about Estudar', 0.15895749856174232),\n",
       " ('english percentil', 0.43634510416812727),\n",
       " ('life project', 1.0547937887192704),\n",
       " ('honors', 1.1637495843451313),\n",
       " ('english test', 1.3900276377594118),\n",
       " ('extra activities', 2.4820703400391024),\n",
       " ('all text', 3.2471311135064331)]"
      ]
     },
     "execution_count": 16,
     "metadata": {},
     "output_type": "execute_result"
    }
   ],
   "source": [
    "get_coefficients(saspe, features)"
   ]
  },
  {
   "cell_type": "code",
   "execution_count": null,
   "metadata": {
    "collapsed": true
   },
   "outputs": [],
   "source": []
  }
 ],
 "metadata": {
  "kernelspec": {
   "display_name": "Python 2",
   "language": "python",
   "name": "python2"
  },
  "language_info": {
   "codemirror_mode": {
    "name": "ipython",
    "version": 2
   },
   "file_extension": ".py",
   "mimetype": "text/x-python",
   "name": "python",
   "nbconvert_exporter": "python",
   "pygments_lexer": "ipython2",
   "version": "2.7.11"
  }
 },
 "nbformat": 4,
 "nbformat_minor": 0
}
